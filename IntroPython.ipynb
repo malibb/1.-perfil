{
  "nbformat": 4,
  "nbformat_minor": 0,
  "metadata": {
    "kernelspec": {
      "display_name": "Python 3",
      "language": "python",
      "name": "python3"
    },
    "language_info": {
      "codemirror_mode": {
        "name": "ipython",
        "version": 3
      },
      "file_extension": ".py",
      "mimetype": "text/x-python",
      "name": "python",
      "nbconvert_exporter": "python",
      "pygments_lexer": "ipython3",
      "version": "3.8.5"
    },
    "colab": {
      "name": "IntroPython.ipynb",
      "provenance": [],
      "collapsed_sections": [
        "V7wzI38DKsxk",
        "-7NF3WOxA1_U"
      ],
      "include_colab_link": true
    }
  },
  "cells": [
    {
      "cell_type": "markdown",
      "metadata": {
        "id": "view-in-github",
        "colab_type": "text"
      },
      "source": [
        "<a href=\"https://colab.research.google.com/github/malibb/1.-perfil/blob/master/IntroPython.ipynb\" target=\"_parent\"><img src=\"https://colab.research.google.com/assets/colab-badge.svg\" alt=\"Open In Colab\"/></a>"
      ]
    },
    {
      "cell_type": "markdown",
      "metadata": {
        "id": "V7wzI38DKsxk"
      },
      "source": [
        "# Introducción a la programación con Python\n",
        "\n",
        "En este notebook introducimos una cantidad suficiente de Python para poder comenzar a programar por nuestra cuenta y continuar nuestro aprendizaje.\n",
        "\n",
        "El flujo y ejemplos están basados en el tutorial [A Whirlwind Tour of Python](https://jakevdp.github.io/WhirlwindTourOfPython/) de Jake VanderPlas, autor de \"The Python Data Science Handbook\".\n",
        "\n",
        "El contenido está pensado para ser expuesto, modificado y construido durante la clase bajo el método de enseñanza *live-coding*, por lo que se recomienda estudiarlo acompañado del video de la clase.\n",
        "\n",
        "Existen dos versiones, la *bare-bone*, o versión inicial, con un esqueleto del contenido, y la versión final, resultado de la clase."
      ]
    },
    {
      "cell_type": "markdown",
      "metadata": {
        "id": "MWTkfQnqwkHk"
      },
      "source": [
        "# Agenda\n",
        "\n",
        "## 0. Variables y tipos.\n",
        "## 1.  Listas y Diccionarios\n",
        "## 2. Operadores básicos.\n",
        "## 3. Condiciones.\n",
        "## 4. Ciclos.\n",
        "## 5. Funciones.\n",
        "\n"
      ]
    },
    {
      "cell_type": "markdown",
      "metadata": {
        "id": "dQ_qJMnbwObF"
      },
      "source": [
        "## Sintaxis básica en Python\n",
        "### Veamos primero un ejemplo básico de lo que podemos hacer en Python"
      ]
    },
    {
      "cell_type": "markdown",
      "metadata": {
        "id": "NYrGDLV1xMNU"
      },
      "source": [
        "### Primero una suma simple"
      ]
    },
    {
      "cell_type": "code",
      "metadata": {
        "id": "0tJ3OpOlOyT6"
      },
      "source": [
        "x = (1 + 2 + 3 + 4 +                        #aqui el enter no afecta la suma o algo asi\n",
        "    5 + 6 + 7 + 8 + 9)"
      ],
      "execution_count": null,
      "outputs": []
    },
    {
      "cell_type": "markdown",
      "metadata": {
        "id": "Ad61V7uOxQLv"
      },
      "source": [
        "## Ahora una combinación simple de instrucciones"
      ]
    },
    {
      "cell_type": "code",
      "metadata": {
        "id": "Yurd3FA9xbo6"
      },
      "source": [
        "# set the midpoint\n",
        "midpoint = 5\n",
        "\n",
        "# make two empty lists\n",
        "lower = []\n",
        "upper = []\n",
        "\n",
        "# split the numbers into lower and upper\n",
        "for i in range(10):\n",
        "    if (i < midpoint):\n",
        "        lower.append(i)\n",
        "    else:\n",
        "        upper.append(i)\n",
        "        \n",
        "print(\"lower:\", lower)\n",
        "print(\"upper:\", upper)"
      ],
      "execution_count": null,
      "outputs": []
    },
    {
      "cell_type": "markdown",
      "metadata": {
        "id": "Ud-Em2B6yCpO"
      },
      "source": [
        "## Python es noble con la sintaxis"
      ]
    },
    {
      "cell_type": "code",
      "metadata": {
        "id": "Dh-xMWagQc57"
      },
      "source": [
        "x = 1 +                                 2                           #El espacio en blanco dentro de las líneas no importa\n",
        "x"
      ],
      "execution_count": null,
      "outputs": []
    },
    {
      "cell_type": "markdown",
      "metadata": {
        "id": "asekzt5r0hOa"
      },
      "source": [
        "## Algunas notas de Python\n",
        "- Los comentarios están marcados con #\n",
        "- Fin de línea finaliza una declaración\n",
        "- El punto y coma puede opcionalmente terminar una declaración\n",
        "- Sangría: ¡el espacio en blanco importa!\n",
        "- El espacio en blanco dentro de las líneas no importa\n",
        "- Los paréntesis son para agrupar o llamar"
      ]
    },
    {
      "cell_type": "markdown",
      "metadata": {
        "id": "SN1N1ZNSySOd"
      },
      "source": [
        "## Ahora nuestro primer programita en Python"
      ]
    },
    {
      "cell_type": "code",
      "metadata": {
        "id": "KrgmmPvV7_aP"
      },
      "source": [
        "print(\"Hola, Mundo!\", x)"
      ],
      "execution_count": null,
      "outputs": []
    },
    {
      "cell_type": "markdown",
      "metadata": {
        "id": "lpenQGogyb6G"
      },
      "source": [
        "## Las listas son de las estructuras de datos mas utilizadas de Python"
      ]
    },
    {
      "cell_type": "code",
      "metadata": {
        "id": "KBzaTB7zRSML"
      },
      "source": [
        "L = [4, 2, 3, 1]\n",
        "print(L)"
      ],
      "execution_count": null,
      "outputs": []
    },
    {
      "cell_type": "markdown",
      "metadata": {
        "id": "6sUCRJXTyqcY"
      },
      "source": [
        "### Hasta la podemos ordenar"
      ]
    },
    {
      "cell_type": "code",
      "metadata": {
        "id": "LKw4-t6ZRYuB"
      },
      "source": [
        "L.sort()\n",
        "L"
      ],
      "execution_count": null,
      "outputs": []
    },
    {
      "cell_type": "markdown",
      "metadata": {
        "id": "5UVwrIGcwTzy"
      },
      "source": [
        "## Variables\n",
        "\n",
        "- Las variables de Python son punteros\n",
        "- Todo es un objeto\n",
        "\n",
        "|Type|\tExample|\tDescription\n",
        "|---|---|---|\n",
        "int\t|x = 1|\tintegers (i.e., whole numbers)\n",
        "float\t|x = 1.0\t|floating-point numbers (i.e., real numbers)\n",
        "complex\t|x = 1 + 2j|\tComplex numbers (i.e., numbers with real and imaginary part)\n",
        "bool\t|x = True|\tBoolean: True/False values\n",
        "str\t|x = 'abc'|\tString: characters or text\n",
        "NoneType|\tx = None|\tSpecial object indicating nulls"
      ]
    },
    {
      "cell_type": "markdown",
      "metadata": {
        "id": "hXJEBJTWy7C_"
      },
      "source": [
        "Las variables son **ubicaciones de memoria reservada** para guardar valores y en Python no se declaran explícitamente.\n",
        "\n",
        "Usamos  el signo igual (=) para crear asignaciones de variables.\n",
        "\n",
        "El operando del lado izquierdo del **signo igual (=) es el nombre de la variable**, y el operando de la derecha es el valor guardado en esa variable."
      ]
    },
    {
      "cell_type": "markdown",
      "metadata": {
        "id": "D4HkIVrSzQ7w"
      },
      "source": [
        "# Definiendo una variable\n",
        "\n",
        "Podemos crear una variable llamada edad y asignarle un valor numérico:\n",
        "\n",
        "**edad = 33**\n",
        "\n",
        "O crear otra variable donde guardamos tu nombre como cadena de caracteres:\n",
        "\n",
        "**nombre = “Ada Lovelace”**\n"
      ]
    },
    {
      "cell_type": "code",
      "metadata": {
        "id": "BMBaPdSV8xc7"
      },
      "source": [
        ""
      ],
      "execution_count": null,
      "outputs": []
    },
    {
      "cell_type": "code",
      "metadata": {
        "id": "JQlT4LgPzbgi"
      },
      "source": [
        ""
      ],
      "execution_count": null,
      "outputs": []
    },
    {
      "cell_type": "markdown",
      "metadata": {
        "id": "mtpj5EN2zheO"
      },
      "source": [
        "# Listas y diccionarios"
      ]
    },
    {
      "cell_type": "markdown",
      "metadata": {
        "id": "H_CIjqEqznqT"
      },
      "source": [
        "Una Lista puede guardar todo tipo de variables, y puede contener cuantas variables desees.\n",
        "\n",
        "Los valores guardados en una lista se pueden acceder usando el operador slice ([ ] y [:]) con índices en 0 al inicio de la lista y hasta el final -1.\n",
        "\n",
        "Los diccionarios son similares a las listas, pero funcionan con llaves(claves) y valores en vez de índices."
      ]
    },
    {
      "cell_type": "markdown",
      "metadata": {
        "id": "rju0J4WczqbN"
      },
      "source": [
        "## Declarando una lista\n",
        "\n",
        "Podemos crear una lista y asignarle cualquier tipo de dato como números y cadenas de caracteres:\n",
        "\n",
        "\n",
        "lista = [ 'abcd', 389 , 2.25, 'Willemien', 70.2 ]\n",
        "\n",
        "\n",
        "lista_pequena = [123, 'Will']\n"
      ]
    },
    {
      "cell_type": "code",
      "metadata": {
        "id": "HZz9b10tSJNA"
      },
      "source": [
        "x = []\n"
      ],
      "execution_count": null,
      "outputs": []
    },
    {
      "cell_type": "code",
      "metadata": {
        "id": "0qG-kBjPSP6m"
      },
      "source": [
        ""
      ],
      "execution_count": null,
      "outputs": []
    },
    {
      "cell_type": "code",
      "source": [
        ""
      ],
      "metadata": {
        "id": "Oyf7G6wmAz4e"
      },
      "execution_count": null,
      "outputs": []
    },
    {
      "cell_type": "markdown",
      "metadata": {
        "id": "WqijJy-4wbzY"
      },
      "source": [
        "# Operadores"
      ]
    },
    {
      "cell_type": "markdown",
      "metadata": {
        "id": "fArm64_B0lCi"
      },
      "source": [
        "# Operadores básicos\n",
        "Como en cualquier lenguaje moderno, podemos hacer operaciones matemáticas como adición, sustracción, multiplicación y división.\n",
        "\n",
        "Los operadores +, -, * y / sirven para manipular números o variables que contengan números y realizar cálculos desde Python.\n",
        "\n",
        "# Usando operadores básicos\n",
        "Podemos crear una variable para guardar el resultado de una suma, multiplicación y división:\n",
        "\n",
        "numero_final = 1 + 2 * 3 / 4 \n",
        "print(numero_final)\n",
        "\n",
        "También podemos hacer adición de cadenas de caracteres:\n",
        "\n",
        "sapere_aude = \"sapere\" + \" \" + \"aude\"\n",
        "print(sapere_aude)\n"
      ]
    },
    {
      "cell_type": "markdown",
      "metadata": {
        "id": "khCfSYGN-QMG"
      },
      "source": [
        "### Operadores aritméticos\n",
        "\n",
        "\n",
        "|Operator\t|Name\t\n",
        "| ----- - | --- \n",
        "a + b\t| Suma\n",
        "a - b\t| Resta\n",
        "a * b\t| Multiplicación\n",
        "a / b\t| Division\t\n",
        "a // b | Division entera\n",
        "a % b | Módulo\t\n",
        "a ** b | Exponenciación\n",
        "-a | Negación\n",
        " +a | Unary \n",
        " @ | Producto de matrices"
      ]
    },
    {
      "cell_type": "code",
      "metadata": {
        "id": "knXxLixZ_ebT"
      },
      "source": [
        ""
      ],
      "execution_count": null,
      "outputs": []
    },
    {
      "cell_type": "code",
      "metadata": {
        "id": "_AMAsKwLYo2J"
      },
      "source": [
        ""
      ],
      "execution_count": null,
      "outputs": []
    },
    {
      "cell_type": "code",
      "source": [
        ""
      ],
      "metadata": {
        "id": "OOxYHqq_A1i_"
      },
      "execution_count": null,
      "outputs": []
    },
    {
      "cell_type": "markdown",
      "metadata": {
        "id": "7uLXONgE-Uxf"
      },
      "source": [
        "### Operaciones bit a bit\n",
        "\n",
        "|Operator\t|Name\t\n",
        "| --- | --- |\n",
        "|a & b\t|Bitwise AND\t\n",
        "|a \\| b\t|Bitwise OR\t\n",
        "|a ^ b\t|Bitwise XOR\t\n",
        "|a << b\t|Bit shift left\t\n",
        "|a >> b\t|Bit shift right\t\n",
        "|~a\t|Bitwise NOT\t\n"
      ]
    },
    {
      "cell_type": "code",
      "metadata": {
        "id": "QPKl-v_E-Oh_"
      },
      "source": [
        ""
      ],
      "execution_count": null,
      "outputs": []
    },
    {
      "cell_type": "code",
      "metadata": {
        "id": "BM1kmSdCZESH"
      },
      "source": [
        ""
      ],
      "execution_count": null,
      "outputs": []
    },
    {
      "cell_type": "code",
      "metadata": {
        "id": "wCVc0HalZK6w"
      },
      "source": [
        ""
      ],
      "execution_count": null,
      "outputs": []
    },
    {
      "cell_type": "markdown",
      "metadata": {
        "id": "Pjx_unYGAXT0"
      },
      "source": [
        "### Operaciones de asignación\n",
        "\n",
        "| | | | |\n",
        "| --- | --- | --- | --- |\n",
        "|a += b|\ta -= b|\ta *= b\t|a /= b|\n",
        "|a //= b|\ta %= b|\ta **= b|\ta &= b|\n",
        "|a \\|= b|\ta ^= b|\ta <<= b\t|a >>= b|"
      ]
    },
    {
      "cell_type": "code",
      "metadata": {
        "id": "SfC5p3DdZZ_v"
      },
      "source": [
        ""
      ],
      "execution_count": null,
      "outputs": []
    },
    {
      "cell_type": "code",
      "metadata": {
        "id": "xn8It8mCZc6T"
      },
      "source": [
        ""
      ],
      "execution_count": null,
      "outputs": []
    },
    {
      "cell_type": "code",
      "source": [
        ""
      ],
      "metadata": {
        "id": "_cBCmhMqA2HQ"
      },
      "execution_count": null,
      "outputs": []
    },
    {
      "cell_type": "markdown",
      "metadata": {
        "id": "-7NF3WOxA1_U"
      },
      "source": [
        "### Operadores de comparación\n",
        "\n",
        "| | |\n",
        "|---|---|\n",
        "|a == b| a != b|\n",
        "|a < b  | a > b\n",
        "|a <= b |\ta >= b"
      ]
    },
    {
      "cell_type": "code",
      "metadata": {
        "id": "1G5pON9oZps5"
      },
      "source": [
        ""
      ],
      "execution_count": null,
      "outputs": []
    },
    {
      "cell_type": "code",
      "metadata": {
        "id": "3cjK2LH5Z01L"
      },
      "source": [
        ""
      ],
      "execution_count": null,
      "outputs": []
    },
    {
      "cell_type": "code",
      "source": [
        ""
      ],
      "metadata": {
        "id": "YZ8cJJ-NA2qk"
      },
      "execution_count": null,
      "outputs": []
    },
    {
      "cell_type": "markdown",
      "metadata": {
        "id": "26BWEl-LBlRB"
      },
      "source": [
        "### Operaciones Booleanas\n",
        "\n",
        "| | | |\n",
        "| --- | --- | --- |\n",
        "|and | or | not|"
      ]
    },
    {
      "cell_type": "code",
      "metadata": {
        "id": "t4C1ZPDMaG07"
      },
      "source": [
        ""
      ],
      "execution_count": null,
      "outputs": []
    },
    {
      "cell_type": "code",
      "metadata": {
        "id": "Hk1-lQAeaRpK"
      },
      "source": [
        ""
      ],
      "execution_count": null,
      "outputs": []
    },
    {
      "cell_type": "code",
      "source": [
        ""
      ],
      "metadata": {
        "id": "i2os8jEtA3NZ"
      },
      "execution_count": null,
      "outputs": []
    },
    {
      "cell_type": "markdown",
      "metadata": {
        "id": "iQV4tGokCgOJ"
      },
      "source": [
        "### Identity and Membership Operators\n",
        "\n",
        "> Bloque con sangría\n",
        "\n",
        "\n",
        "\n",
        "| | |\n",
        "| - | -|\n",
        "|a is b|\tTrue if a and b are identical objects\n",
        "a is not b|\tTrue if a and b are not identical objects\n",
        "a in b |\tTrue if a is a member of b\n",
        "a not in b\t|True if a is not a member of b"
      ]
    },
    {
      "cell_type": "code",
      "metadata": {
        "id": "i6oaKyE2aanR"
      },
      "source": [
        ""
      ],
      "execution_count": null,
      "outputs": []
    },
    {
      "cell_type": "code",
      "metadata": {
        "id": "Zk0Lri6CajcW"
      },
      "source": [
        ""
      ],
      "execution_count": null,
      "outputs": []
    },
    {
      "cell_type": "code",
      "metadata": {
        "id": "KTfHicBJamSL"
      },
      "source": [
        ""
      ],
      "execution_count": null,
      "outputs": []
    },
    {
      "cell_type": "code",
      "metadata": {
        "id": "fJRkth5Vaplv"
      },
      "source": [
        ""
      ],
      "execution_count": null,
      "outputs": []
    },
    {
      "cell_type": "markdown",
      "metadata": {
        "id": "60K_ktBRwshv"
      },
      "source": [
        "## Estructuras de datos incorporadas\n",
        "\n",
        "|Type Name| Example|\tDescription|\n",
        "|-|-|-|\n",
        "list|\t[1, 2, 3]\t|Ordered collection\n",
        "tuple|\t(1, 2, 3)|\tImmutable ordered collection\n",
        "dict|\t{'a':1, 'b':2, 'c':3}|\tUnordered (key,value) mapping (insertion ordered 3.7+)\n",
        "set\t|{1, 2, 3}|\tUnordered collection of unique values"
      ]
    },
    {
      "cell_type": "code",
      "metadata": {
        "id": "6K5R3Y4uce19"
      },
      "source": [
        ""
      ],
      "execution_count": null,
      "outputs": []
    },
    {
      "cell_type": "code",
      "metadata": {
        "id": "fU80msD2cf0f"
      },
      "source": [
        ""
      ],
      "execution_count": null,
      "outputs": []
    },
    {
      "cell_type": "code",
      "metadata": {
        "id": "7_agAnsZcmEa"
      },
      "source": [
        ""
      ],
      "execution_count": null,
      "outputs": []
    },
    {
      "cell_type": "code",
      "metadata": {
        "id": "FaMdhj6ecp9Q"
      },
      "source": [
        ""
      ],
      "execution_count": null,
      "outputs": []
    },
    {
      "cell_type": "code",
      "metadata": {
        "id": "N13KoCijcuze"
      },
      "source": [
        ""
      ],
      "execution_count": null,
      "outputs": []
    },
    {
      "cell_type": "markdown",
      "metadata": {
        "id": "MvDKNgH8IeHq"
      },
      "source": [
        "#### List comprehension"
      ]
    },
    {
      "cell_type": "markdown",
      "metadata": {
        "id": "VkaqP4srrGQH"
      },
      "source": [
        "Métodos útiles para listas:\n",
        "- append\n",
        "- count\n",
        "- index\n",
        "- sort\n",
        "- reverse"
      ]
    },
    {
      "cell_type": "markdown",
      "metadata": {
        "id": "_eS-uI48OXig"
      },
      "source": [
        "### Tuplas"
      ]
    },
    {
      "cell_type": "code",
      "metadata": {
        "id": "5p_tamwtc2Tv"
      },
      "source": [
        ""
      ],
      "execution_count": null,
      "outputs": []
    },
    {
      "cell_type": "code",
      "metadata": {
        "id": "Bk56eOzRc7Uf"
      },
      "source": [
        ""
      ],
      "execution_count": null,
      "outputs": []
    },
    {
      "cell_type": "code",
      "metadata": {
        "id": "c_W0cPUPdIZm"
      },
      "source": [
        ""
      ],
      "execution_count": null,
      "outputs": []
    },
    {
      "cell_type": "code",
      "metadata": {
        "id": "8yt1X9cRdT24"
      },
      "source": [
        ""
      ],
      "execution_count": null,
      "outputs": []
    },
    {
      "cell_type": "code",
      "metadata": {
        "id": "sqIuJ4u4djzJ"
      },
      "source": [
        ""
      ],
      "execution_count": null,
      "outputs": []
    },
    {
      "cell_type": "markdown",
      "metadata": {
        "id": "sT48IcS3OERZ"
      },
      "source": [
        "### Diccionarios"
      ]
    },
    {
      "cell_type": "code",
      "metadata": {
        "id": "srUvzeH6dtXx"
      },
      "source": [
        "# key: value pair\n"
      ],
      "execution_count": null,
      "outputs": []
    },
    {
      "cell_type": "code",
      "metadata": {
        "id": "IVCtE9t7d-Mk"
      },
      "source": [
        ""
      ],
      "execution_count": null,
      "outputs": []
    },
    {
      "cell_type": "code",
      "metadata": {
        "id": "movyR5a8eRH1"
      },
      "source": [
        ""
      ],
      "execution_count": null,
      "outputs": []
    },
    {
      "cell_type": "code",
      "metadata": {
        "id": "oZOhNZYOeWkg"
      },
      "source": [
        ""
      ],
      "execution_count": null,
      "outputs": []
    },
    {
      "cell_type": "markdown",
      "metadata": {
        "id": "RUWGpKHSOJhB"
      },
      "source": [
        "### Conjuntos (Sets)"
      ]
    },
    {
      "cell_type": "code",
      "metadata": {
        "id": "J1ZUc07DecK1"
      },
      "source": [
        ""
      ],
      "execution_count": null,
      "outputs": []
    },
    {
      "cell_type": "code",
      "metadata": {
        "id": "2CoZCEM9ektC"
      },
      "source": [
        ""
      ],
      "execution_count": null,
      "outputs": []
    },
    {
      "cell_type": "code",
      "metadata": {
        "id": "9yXvHAzQe3bw"
      },
      "source": [
        ""
      ],
      "execution_count": null,
      "outputs": []
    },
    {
      "cell_type": "markdown",
      "metadata": {
        "id": "Fu-9K1Xcwyra"
      },
      "source": [
        "## Flujo de control"
      ]
    },
    {
      "cell_type": "markdown",
      "metadata": {
        "id": "t_8nzXjT1Jvf"
      },
      "source": [
        "Python soporta las condiciones lógicas comunes en matemáticas:\n",
        "\n",
        "Igualdad: \t\t\t\t\tmanzana == banana\n",
        "\n",
        "Desigualdad: \t\t\t\tmanzana != banana\n",
        "\n",
        "Menor que: \t\t\t\t\tmanzana < banana\n",
        "\n",
        "Menor o igual a que: \t\tmanzana <= banana\n",
        "\n",
        "Mayor que: \t\t\t\t\tmanzana > banana\n",
        "\n",
        "Mayor o igual que: \t\t\tmanzana >= banana"
      ]
    },
    {
      "cell_type": "markdown",
      "metadata": {
        "id": "UvvMSfrC1Z25"
      },
      "source": [
        "Esas condicionales se pueden utilizar de distintas maneras, de manera muy frecuente en las sentencias if y en los ciclos.\n",
        "\n",
        "Python depende de la identación para definir la ejecución de una sentencia condicional como if. Otros lenguajes de programación utilizan las llaves (“{“ y ”}”, respectivamente) para este propósito."
      ]
    },
    {
      "cell_type": "markdown",
      "metadata": {
        "id": "_61maWoEOceN"
      },
      "source": [
        "### Conditional Statements: if-elif-else"
      ]
    },
    {
      "cell_type": "markdown",
      "metadata": {
        "id": "d5VAzApa3ahN"
      },
      "source": [
        "Podemos hace un condicionamiento doble con if y else, elif de la siguiente manera:\n",
        "a = 200\n",
        "b = 33\n",
        "if b > a:\n",
        "   > print(\"b es más grande que a\")\n",
        "\n",
        "elif b=a:\n",
        "   > print(“b es exactamente igual a a”)\n",
        "   \n",
        "else:\n",
        "   > print(\"b no es más grande que a\")\n",
        "\n",
        "O un condicionamiento simple en una sóla línea:\n",
        "\n",
        "if a > b: print(\"a es mayor que b\")\n"
      ]
    },
    {
      "cell_type": "code",
      "metadata": {
        "id": "yu-AZiO_lMu0"
      },
      "source": [
        ""
      ],
      "execution_count": null,
      "outputs": []
    },
    {
      "cell_type": "markdown",
      "metadata": {
        "id": "t527s_QS4FDg"
      },
      "source": [
        "# Condicionales: and y or\n",
        "Los operadores booleanos and y or permiten expresiones booleanas complejas como:"
      ]
    },
    {
      "cell_type": "code",
      "metadata": {
        "id": "A6EO_GuZ4Lbj"
      },
      "source": [
        "\n"
      ],
      "execution_count": null,
      "outputs": []
    },
    {
      "cell_type": "markdown",
      "metadata": {
        "id": "PaeIrmE44Wvo"
      },
      "source": [
        "# Condicionales: in y is\n",
        "Los operadores booleanos in y is permiten expresiones booleanas complejas como:"
      ]
    },
    {
      "cell_type": "code",
      "metadata": {
        "id": "KdwJoQoK4YHw"
      },
      "source": [
        ""
      ],
      "execution_count": null,
      "outputs": []
    },
    {
      "cell_type": "code",
      "metadata": {
        "id": "bmiuBUMq49AA"
      },
      "source": [
        "# is revisa si se trata del mismo objeto\n"
      ],
      "execution_count": null,
      "outputs": []
    },
    {
      "cell_type": "markdown",
      "metadata": {
        "id": "itEziK8C5coc"
      },
      "source": [
        "# Ciclos\n",
        "\n",
        "Los ciclos sirven para cursar sobre una secuencia (como una lista, un diccionario o una cadena de caracteres).\n",
        "\n",
        "El ciclo for, por ejemplo, permite ejecutar una conjunto de instrucciones, una para cada elemento en la lista, diccionario o cadena de caracteres que pretendemos leer."
      ]
    },
    {
      "cell_type": "markdown",
      "metadata": {
        "id": "1C5otK3aOcx5"
      },
      "source": [
        "## for loops"
      ]
    },
    {
      "cell_type": "markdown",
      "metadata": {
        "id": "3JSxKnoh5kcS"
      },
      "source": [
        "# Declarando un ciclo for\n",
        "Podemos crear una lista de variables con números primos dentro"
      ]
    },
    {
      "cell_type": "code",
      "metadata": {
        "id": "b7ZmclEElRA2"
      },
      "source": [
        ""
      ],
      "execution_count": null,
      "outputs": []
    },
    {
      "cell_type": "code",
      "metadata": {
        "id": "R-C_5i7vklcr"
      },
      "source": [
        ""
      ],
      "execution_count": null,
      "outputs": []
    },
    {
      "cell_type": "code",
      "metadata": {
        "id": "gGztWcX9k0dc"
      },
      "source": [
        ""
      ],
      "execution_count": null,
      "outputs": []
    },
    {
      "cell_type": "markdown",
      "metadata": {
        "id": "0SQqMtB9lZYA"
      },
      "source": [
        "### while loops"
      ]
    },
    {
      "cell_type": "code",
      "metadata": {
        "id": "vr0FbT97laxM"
      },
      "source": [
        ""
      ],
      "execution_count": null,
      "outputs": []
    },
    {
      "cell_type": "markdown",
      "metadata": {
        "id": "MwalUZiPlenr"
      },
      "source": [
        "### break and continue: Fine-Tuning Your Loops\n",
        "\n",
        "- `break` se sale del bucle por completo\n",
        "- `continue` omite el resto del ciclo actual y pasa a la siguiente iteración "
      ]
    },
    {
      "cell_type": "code",
      "metadata": {
        "id": "0RUUZQLXlu5y"
      },
      "source": [
        ""
      ],
      "execution_count": null,
      "outputs": []
    },
    {
      "cell_type": "code",
      "metadata": {
        "id": "aRWUGESvlujS"
      },
      "source": [
        ""
      ],
      "execution_count": null,
      "outputs": []
    },
    {
      "cell_type": "markdown",
      "metadata": {
        "id": "vtjA_wmKmKdm"
      },
      "source": [
        "### Loops with an else Block"
      ]
    },
    {
      "cell_type": "code",
      "metadata": {
        "id": "-bbv-WJvmOAY"
      },
      "source": [
        ""
      ],
      "execution_count": null,
      "outputs": []
    },
    {
      "cell_type": "markdown",
      "metadata": {
        "id": "l07zEnZew17m"
      },
      "source": [
        "## Funciones"
      ]
    },
    {
      "cell_type": "markdown",
      "metadata": {
        "id": "72TKXLd7maKb"
      },
      "source": [
        "### Key-word arguments"
      ]
    },
    {
      "cell_type": "code",
      "metadata": {
        "id": "JXttHZfOmcw4"
      },
      "source": [
        ""
      ],
      "execution_count": null,
      "outputs": []
    },
    {
      "cell_type": "code",
      "metadata": {
        "id": "NJT0eKLannB7"
      },
      "source": [
        ""
      ],
      "execution_count": null,
      "outputs": []
    },
    {
      "cell_type": "markdown",
      "metadata": {
        "id": "6h4P48jLmtJ8"
      },
      "source": [
        "### Defining Functions"
      ]
    },
    {
      "cell_type": "markdown",
      "metadata": {
        "id": "KBv28tsi6CgD"
      },
      "source": [
        "Las funciones son una manera conveniente de dividir el código en bloques útiles, permitiendo órden, haciéndolo más leíble, reusable y nos permite ser más productivos.\n",
        "\n",
        "Las funciones son una manera muy valiosa de definir interfaces de manera que los y las programadoras pueden compartir su código."
      ]
    },
    {
      "cell_type": "markdown",
      "metadata": {
        "id": "Dh4rCYsG6OYg"
      },
      "source": [
        "### Usamos la palabra def para declarar nuestra función:"
      ]
    },
    {
      "cell_type": "code",
      "metadata": {
        "id": "f8dxrXiH6RDI"
      },
      "source": [
        "\n"
      ],
      "execution_count": null,
      "outputs": []
    },
    {
      "cell_type": "markdown",
      "metadata": {
        "id": "Q2CXVZ5U6VIc"
      },
      "source": [
        "O podemos crear una función con argumentos:\n"
      ]
    },
    {
      "cell_type": "code",
      "metadata": {
        "id": "TmQOIgFz6Vbz"
      },
      "source": [
        ""
      ],
      "execution_count": null,
      "outputs": []
    },
    {
      "cell_type": "markdown",
      "metadata": {
        "id": "SIRGOG_f6r-X"
      },
      "source": [
        "### Podemos crear funciones que regrese valores\n",
        "\n",
        "### Y podemos hacer uso de la función así y guardar el resultado de la ejecución del método en la variable resultado"
      ]
    },
    {
      "cell_type": "code",
      "metadata": {
        "id": "u2OS4BHgmwzW"
      },
      "source": [
        ""
      ],
      "execution_count": null,
      "outputs": []
    },
    {
      "cell_type": "code",
      "metadata": {
        "id": "LwNvsUjYoY9z"
      },
      "source": [
        ""
      ],
      "execution_count": null,
      "outputs": []
    },
    {
      "cell_type": "code",
      "metadata": {
        "id": "vB-nINIhm6EU"
      },
      "source": [
        ""
      ],
      "execution_count": null,
      "outputs": []
    },
    {
      "cell_type": "markdown",
      "metadata": {
        "id": "PKDN3o0XmtE5"
      },
      "source": [
        "### DValores default para las funciones"
      ]
    },
    {
      "cell_type": "code",
      "metadata": {
        "id": "gqsPGSNmm-d2"
      },
      "source": [
        ""
      ],
      "execution_count": null,
      "outputs": []
    },
    {
      "cell_type": "code",
      "metadata": {
        "id": "AssngshxpIuK"
      },
      "source": [
        ""
      ],
      "execution_count": null,
      "outputs": []
    },
    {
      "cell_type": "markdown",
      "metadata": {
        "id": "2rGTAXA6nE1z"
      },
      "source": [
        "### *args and **kwargs: Argumentos Flexibles"
      ]
    },
    {
      "cell_type": "markdown",
      "metadata": {
        "id": "yPfj_v3V--q4"
      },
      "source": [
        "El principal uso de *args y **kwargs es en la definición de funciones. Ambos permiten pasar un número variable de argumentos a una función, por lo que si quieres definir una función cuyo número de parámetros de entrada puede ser variable, considera el uso de *args o **kwargs como una opción.\n",
        "\n",
        "**kwargs permite pasar argumentos de longitud variable asociados con un nombre o key a una función. Deberías usar **kwargs si quieres manejar argumentos con nombre como entrada a una función."
      ]
    },
    {
      "cell_type": "code",
      "metadata": {
        "id": "Co0QS7x_paYD"
      },
      "source": [
        ""
      ],
      "execution_count": null,
      "outputs": []
    },
    {
      "cell_type": "code",
      "metadata": {
        "id": "w-trQukNnFwR"
      },
      "source": [
        ""
      ],
      "execution_count": null,
      "outputs": []
    },
    {
      "cell_type": "code",
      "metadata": {
        "id": "W_j78Myxp1ck"
      },
      "source": [
        ""
      ],
      "execution_count": null,
      "outputs": []
    },
    {
      "cell_type": "markdown",
      "metadata": {
        "id": "5jrMM8Wznc6E"
      },
      "source": [
        "### Funciones lambda"
      ]
    },
    {
      "cell_type": "code",
      "metadata": {
        "id": "RJRIcqWMntw3"
      },
      "source": [
        ""
      ],
      "execution_count": null,
      "outputs": []
    },
    {
      "cell_type": "code",
      "metadata": {
        "id": "wF-C3eO6qcwu"
      },
      "source": [
        ""
      ],
      "execution_count": null,
      "outputs": []
    },
    {
      "cell_type": "code",
      "metadata": {
        "id": "x0l3_Xj5n0Lh"
      },
      "source": [
        ""
      ],
      "execution_count": null,
      "outputs": []
    },
    {
      "cell_type": "code",
      "metadata": {
        "id": "cRhKsKwh_7_s"
      },
      "source": [
        ""
      ],
      "execution_count": null,
      "outputs": []
    },
    {
      "cell_type": "code",
      "metadata": {
        "id": "qYjVjWX1qsdp"
      },
      "source": [
        ""
      ],
      "execution_count": null,
      "outputs": []
    },
    {
      "cell_type": "code",
      "metadata": {
        "id": "LsVF-5j0q277"
      },
      "source": [
        ""
      ],
      "execution_count": null,
      "outputs": []
    },
    {
      "cell_type": "markdown",
      "metadata": {
        "id": "h4_PUhQjDET0"
      },
      "source": [
        "## Buenas prácticas para escribir código Python\n",
        "\n",
        "Las convenciones para escribir código Python se describen en [The PEP 8 Style Guide for Python Code](https://www.python.org/dev/peps/pep-0008/), entre las que encontramos,\n",
        "\n",
        "- Longitud máxima de línea: 79 caracteres.\n",
        "- 4 espacios por nivel de sangría\n",
        "- 'Hanging indentation' para contenido dentro de brackets\n",
        "- Espacio alrededor de operadores\n",
        "- Una expresión po línea"
      ]
    },
    {
      "cell_type": "code",
      "metadata": {
        "id": "TLfQPhZuDor1"
      },
      "source": [
        ""
      ],
      "execution_count": null,
      "outputs": []
    }
  ]
}